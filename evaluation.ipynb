{
 "cells": [
  {
   "metadata": {
    "ExecuteTime": {
     "end_time": "2025-07-26T15:18:48.583561Z",
     "start_time": "2025-07-26T15:18:48.468163Z"
    }
   },
   "cell_type": "code",
   "source": "from langchain.docstore.document import Document",
   "id": "3ca5a2db8f252c92",
   "outputs": [],
   "execution_count": 2
  },
  {
   "metadata": {
    "ExecuteTime": {
     "end_time": "2025-07-26T15:19:39.666612Z",
     "start_time": "2025-07-26T15:19:39.640619Z"
    }
   },
   "cell_type": "code",
   "source": [
    "import json\n",
    "document_pages = json.load(open(\"/data/document_pages.json\"))"
   ],
   "id": "630a46f5a744282b",
   "outputs": [],
   "execution_count": 4
  },
  {
   "metadata": {
    "ExecuteTime": {
     "end_time": "2025-07-26T15:20:41.577797Z",
     "start_time": "2025-07-26T15:20:41.573293Z"
    }
   },
   "cell_type": "code",
   "source": "md_pages = [Document(page_content=item['md']) for item in document_pages]",
   "id": "84fbdf07203b3028",
   "outputs": [],
   "execution_count": 9
  },
  {
   "metadata": {
    "ExecuteTime": {
     "end_time": "2025-07-26T15:26:44.656227Z",
     "start_time": "2025-07-26T15:26:42.618483Z"
    }
   },
   "cell_type": "code",
   "source": "!pip install langchain-openai",
   "id": "e791916ab20e1931",
   "outputs": [
    {
     "name": "stdout",
     "output_type": "stream",
     "text": [
      "Requirement already satisfied: langchain-openai in /home/ju/miniconda3/envs/heyhi/lib/python3.9/site-packages (0.3.28)\r\n",
      "Requirement already satisfied: langchain-core<1.0.0,>=0.3.68 in /home/ju/miniconda3/envs/heyhi/lib/python3.9/site-packages (from langchain-openai) (0.3.72)\r\n",
      "Requirement already satisfied: openai<2.0.0,>=1.86.0 in /home/ju/miniconda3/envs/heyhi/lib/python3.9/site-packages (from langchain-openai) (1.97.1)\r\n",
      "Requirement already satisfied: tiktoken<1,>=0.7 in /home/ju/miniconda3/envs/heyhi/lib/python3.9/site-packages (from langchain-openai) (0.9.0)\r\n",
      "Requirement already satisfied: langsmith>=0.3.45 in /home/ju/miniconda3/envs/heyhi/lib/python3.9/site-packages (from langchain-core<1.0.0,>=0.3.68->langchain-openai) (0.4.8)\r\n",
      "Requirement already satisfied: tenacity!=8.4.0,<10.0.0,>=8.1.0 in /home/ju/miniconda3/envs/heyhi/lib/python3.9/site-packages (from langchain-core<1.0.0,>=0.3.68->langchain-openai) (8.5.0)\r\n",
      "Requirement already satisfied: jsonpatch<2.0,>=1.33 in /home/ju/miniconda3/envs/heyhi/lib/python3.9/site-packages (from langchain-core<1.0.0,>=0.3.68->langchain-openai) (1.33)\r\n",
      "Requirement already satisfied: PyYAML>=5.3 in /home/ju/miniconda3/envs/heyhi/lib/python3.9/site-packages (from langchain-core<1.0.0,>=0.3.68->langchain-openai) (6.0.2)\r\n",
      "Requirement already satisfied: typing-extensions>=4.7 in /home/ju/miniconda3/envs/heyhi/lib/python3.9/site-packages (from langchain-core<1.0.0,>=0.3.68->langchain-openai) (4.12.2)\r\n",
      "Requirement already satisfied: packaging>=23.2 in /home/ju/miniconda3/envs/heyhi/lib/python3.9/site-packages (from langchain-core<1.0.0,>=0.3.68->langchain-openai) (24.2)\r\n",
      "Requirement already satisfied: pydantic>=2.7.4 in /home/ju/miniconda3/envs/heyhi/lib/python3.9/site-packages (from langchain-core<1.0.0,>=0.3.68->langchain-openai) (2.11.7)\r\n",
      "Requirement already satisfied: jsonpointer>=1.9 in /home/ju/miniconda3/envs/heyhi/lib/python3.9/site-packages (from jsonpatch<2.0,>=1.33->langchain-core<1.0.0,>=0.3.68->langchain-openai) (3.0.0)\r\n",
      "Requirement already satisfied: anyio<5,>=3.5.0 in /home/ju/miniconda3/envs/heyhi/lib/python3.9/site-packages (from openai<2.0.0,>=1.86.0->langchain-openai) (4.9.0)\r\n",
      "Requirement already satisfied: distro<2,>=1.7.0 in /home/ju/miniconda3/envs/heyhi/lib/python3.9/site-packages (from openai<2.0.0,>=1.86.0->langchain-openai) (1.9.0)\r\n",
      "Requirement already satisfied: httpx<1,>=0.23.0 in /home/ju/miniconda3/envs/heyhi/lib/python3.9/site-packages (from openai<2.0.0,>=1.86.0->langchain-openai) (0.28.1)\r\n",
      "Requirement already satisfied: jiter<1,>=0.4.0 in /home/ju/miniconda3/envs/heyhi/lib/python3.9/site-packages (from openai<2.0.0,>=1.86.0->langchain-openai) (0.10.0)\r\n",
      "Requirement already satisfied: sniffio in /home/ju/miniconda3/envs/heyhi/lib/python3.9/site-packages (from openai<2.0.0,>=1.86.0->langchain-openai) (1.3.0)\r\n",
      "Requirement already satisfied: tqdm>4 in /home/ju/miniconda3/envs/heyhi/lib/python3.9/site-packages (from openai<2.0.0,>=1.86.0->langchain-openai) (4.67.1)\r\n",
      "Requirement already satisfied: exceptiongroup>=1.0.2 in /home/ju/miniconda3/envs/heyhi/lib/python3.9/site-packages (from anyio<5,>=3.5.0->openai<2.0.0,>=1.86.0->langchain-openai) (1.2.0)\r\n",
      "Requirement already satisfied: idna>=2.8 in /home/ju/miniconda3/envs/heyhi/lib/python3.9/site-packages (from anyio<5,>=3.5.0->openai<2.0.0,>=1.86.0->langchain-openai) (3.7)\r\n",
      "Requirement already satisfied: certifi in /home/ju/miniconda3/envs/heyhi/lib/python3.9/site-packages (from httpx<1,>=0.23.0->openai<2.0.0,>=1.86.0->langchain-openai) (2025.7.14)\r\n",
      "Requirement already satisfied: httpcore==1.* in /home/ju/miniconda3/envs/heyhi/lib/python3.9/site-packages (from httpx<1,>=0.23.0->openai<2.0.0,>=1.86.0->langchain-openai) (1.0.9)\r\n",
      "Requirement already satisfied: h11>=0.16 in /home/ju/miniconda3/envs/heyhi/lib/python3.9/site-packages (from httpcore==1.*->httpx<1,>=0.23.0->openai<2.0.0,>=1.86.0->langchain-openai) (0.16.0)\r\n",
      "Requirement already satisfied: annotated-types>=0.6.0 in /home/ju/miniconda3/envs/heyhi/lib/python3.9/site-packages (from pydantic>=2.7.4->langchain-core<1.0.0,>=0.3.68->langchain-openai) (0.7.0)\r\n",
      "Requirement already satisfied: pydantic-core==2.33.2 in /home/ju/miniconda3/envs/heyhi/lib/python3.9/site-packages (from pydantic>=2.7.4->langchain-core<1.0.0,>=0.3.68->langchain-openai) (2.33.2)\r\n",
      "Requirement already satisfied: typing-inspection>=0.4.0 in /home/ju/miniconda3/envs/heyhi/lib/python3.9/site-packages (from pydantic>=2.7.4->langchain-core<1.0.0,>=0.3.68->langchain-openai) (0.4.1)\r\n",
      "Requirement already satisfied: regex>=2022.1.18 in /home/ju/miniconda3/envs/heyhi/lib/python3.9/site-packages (from tiktoken<1,>=0.7->langchain-openai) (2024.11.6)\r\n",
      "Requirement already satisfied: requests>=2.26.0 in /home/ju/miniconda3/envs/heyhi/lib/python3.9/site-packages (from tiktoken<1,>=0.7->langchain-openai) (2.32.4)\r\n",
      "Requirement already satisfied: orjson<4.0.0,>=3.9.14 in /home/ju/miniconda3/envs/heyhi/lib/python3.9/site-packages (from langsmith>=0.3.45->langchain-core<1.0.0,>=0.3.68->langchain-openai) (3.11.1)\r\n",
      "Requirement already satisfied: requests-toolbelt<2.0.0,>=1.0.0 in /home/ju/miniconda3/envs/heyhi/lib/python3.9/site-packages (from langsmith>=0.3.45->langchain-core<1.0.0,>=0.3.68->langchain-openai) (1.0.0)\r\n",
      "Requirement already satisfied: zstandard<0.24.0,>=0.23.0 in /home/ju/miniconda3/envs/heyhi/lib/python3.9/site-packages (from langsmith>=0.3.45->langchain-core<1.0.0,>=0.3.68->langchain-openai) (0.23.0)\r\n",
      "Requirement already satisfied: charset_normalizer<4,>=2 in /home/ju/miniconda3/envs/heyhi/lib/python3.9/site-packages (from requests>=2.26.0->tiktoken<1,>=0.7->langchain-openai) (3.3.2)\r\n",
      "Requirement already satisfied: urllib3<3,>=1.21.1 in /home/ju/miniconda3/envs/heyhi/lib/python3.9/site-packages (from requests>=2.26.0->tiktoken<1,>=0.7->langchain-openai) (1.26.20)\r\n"
     ]
    }
   ],
   "execution_count": 14
  },
  {
   "metadata": {
    "ExecuteTime": {
     "end_time": "2025-07-27T01:42:48.402191Z",
     "start_time": "2025-07-27T01:42:48.340517Z"
    }
   },
   "cell_type": "code",
   "source": [
    "import os\n",
    "from dotenv import load_dotenv\n",
    "load_dotenv()\n",
    "\n",
    "from ragas.llms import LangchainLLMWrapper\n",
    "from ragas.embeddings import LangchainEmbeddingsWrapper\n",
    "from langchain_openai import ChatOpenAI\n",
    "from langchain_openai import OpenAIEmbeddings\n",
    "generator_llm = LangchainLLMWrapper(ChatOpenAI(model=\"gpt-4.1-mini\"))\n",
    "generator_embeddings = LangchainEmbeddingsWrapper(OpenAIEmbeddings())"
   ],
   "id": "d399a6ee226fba12",
   "outputs": [],
   "execution_count": 6
  },
  {
   "metadata": {
    "ExecuteTime": {
     "end_time": "2025-07-27T01:42:31.219448Z",
     "start_time": "2025-07-27T01:42:31.186910Z"
    }
   },
   "cell_type": "code",
   "source": [
    "from langchain.docstore.document import Document\n",
    "\n",
    "import json\n",
    "document_pages = json.load(open(\"/data/document_pages.json\"))\n",
    "\n",
    "md_pages = [Document(page_content=item['md']) for item in document_pages]"
   ],
   "id": "1fa4f73a7422cca5",
   "outputs": [],
   "execution_count": 5
  },
  {
   "metadata": {
    "ExecuteTime": {
     "end_time": "2025-07-27T01:47:37.793534Z",
     "start_time": "2025-07-27T01:43:07.837285Z"
    }
   },
   "cell_type": "code",
   "source": [
    "from ragas.testset import TestsetGenerator\n",
    "\n",
    "generator = TestsetGenerator(llm=generator_llm, embedding_model=generator_embeddings)\n",
    "dataset = generator.generate_with_langchain_docs(md_pages, testset_size=20)"
   ],
   "id": "8c1ad938c229c5ab",
   "outputs": [
    {
     "name": "stderr",
     "output_type": "stream",
     "text": [
      "Applying HeadlineSplitter:   0%|          | 0/35 [00:00<?, ?it/s]           unable to apply transformation: 'headlines' property not found in this node\n",
      "Applying SummaryExtractor:  53%|█████▎    | 32/60 [00:07<00:05,  4.76it/s]Property 'summary' already exists in node '7adc0e'. Skipping!\n",
      "Applying SummaryExtractor:  55%|█████▌    | 33/60 [00:07<00:06,  3.89it/s]Property 'summary' already exists in node 'fcf187'. Skipping!\n",
      "Applying SummaryExtractor:  57%|█████▋    | 34/60 [00:07<00:06,  3.97it/s]Property 'summary' already exists in node 'ecb34c'. Skipping!\n",
      "Applying SummaryExtractor:  60%|██████    | 36/60 [00:08<00:05,  4.39it/s]Property 'summary' already exists in node '27ef10'. Skipping!\n",
      "Applying SummaryExtractor:  62%|██████▏   | 37/60 [00:08<00:05,  3.95it/s]Property 'summary' already exists in node 'b437c5'. Skipping!\n",
      "Applying SummaryExtractor:  63%|██████▎   | 38/60 [00:08<00:05,  4.07it/s]Property 'summary' already exists in node '9d366b'. Skipping!\n",
      "Applying SummaryExtractor:  65%|██████▌   | 39/60 [00:08<00:04,  4.35it/s]Property 'summary' already exists in node '1bc243'. Skipping!\n",
      "Property 'summary' already exists in node '4c6ac2'. Skipping!\n",
      "Property 'summary' already exists in node '384eb3'. Skipping!\n",
      "Applying SummaryExtractor:  72%|███████▏  | 43/60 [00:09<00:02,  6.06it/s]Property 'summary' already exists in node '58db03'. Skipping!\n",
      "Applying SummaryExtractor:  73%|███████▎  | 44/60 [00:09<00:02,  5.89it/s]Property 'summary' already exists in node '7b4c1f'. Skipping!\n",
      "Property 'summary' already exists in node 'c6f50a'. Skipping!\n",
      "Applying SummaryExtractor:  75%|███████▌  | 45/60 [00:09<00:03,  4.98it/s]Property 'summary' already exists in node '1497f0'. Skipping!\n",
      "Property 'summary' already exists in node 'd0f70e'. Skipping!\n",
      "Property 'summary' already exists in node 'ae2ef3'. Skipping!\n",
      "Applying SummaryExtractor:  80%|████████  | 48/60 [00:10<00:01,  6.63it/s]Property 'summary' already exists in node '4e9cfe'. Skipping!\n",
      "Property 'summary' already exists in node '257cd2'. Skipping!\n",
      "Property 'summary' already exists in node '91ccb6'. Skipping!\n",
      "Applying SummaryExtractor:  87%|████████▋ | 52/60 [00:10<00:00,  8.77it/s]Property 'summary' already exists in node 'e5c498'. Skipping!\n",
      "Applying SummaryExtractor:  88%|████████▊ | 53/60 [00:10<00:00,  7.83it/s]Property 'summary' already exists in node 'e5d8be'. Skipping!\n",
      "Property 'summary' already exists in node '9f63c3'. Skipping!\n",
      "Property 'summary' already exists in node '146892'. Skipping!\n",
      "Property 'summary' already exists in node '85b1f7'. Skipping!\n",
      "Applying SummaryExtractor:  95%|█████████▌| 57/60 [00:10<00:00,  9.67it/s]Property 'summary' already exists in node '904597'. Skipping!\n",
      "Applying SummaryExtractor:  97%|█████████▋| 58/60 [00:11<00:00,  6.80it/s]Property 'summary' already exists in node '38ef14'. Skipping!\n",
      "Applying SummaryExtractor:  98%|█████████▊| 59/60 [00:11<00:00,  5.24it/s]Property 'summary' already exists in node 'e2bb06'. Skipping!\n",
      "Applying [EmbeddingExtractor, ThemesExtractor, NERExtractor]:  26%|██▌       | 24/94 [00:01<00:03, 18.58it/s]Property 'summary_embedding' already exists in node '7adc0e'. Skipping!\n",
      "Applying [EmbeddingExtractor, ThemesExtractor, NERExtractor]:  29%|██▊       | 27/94 [00:01<00:03, 20.42it/s]Property 'summary_embedding' already exists in node '1bc243'. Skipping!\n",
      "Applying [EmbeddingExtractor, ThemesExtractor, NERExtractor]:  32%|███▏      | 30/94 [00:02<00:04, 14.06it/s]Property 'summary_embedding' already exists in node '9d366b'. Skipping!\n",
      "Property 'summary_embedding' already exists in node '1497f0'. Skipping!\n",
      "Property 'summary_embedding' already exists in node '257cd2'. Skipping!\n",
      "Property 'summary_embedding' already exists in node 'c6f50a'. Skipping!\n",
      "Applying [EmbeddingExtractor, ThemesExtractor, NERExtractor]:  41%|████▏     | 39/94 [00:02<00:02, 23.16it/s]Property 'summary_embedding' already exists in node 'fcf187'. Skipping!\n",
      "Property 'summary_embedding' already exists in node '58db03'. Skipping!\n",
      "Property 'summary_embedding' already exists in node '27ef10'. Skipping!\n",
      "Property 'summary_embedding' already exists in node '384eb3'. Skipping!\n",
      "Property 'summary_embedding' already exists in node '7b4c1f'. Skipping!\n",
      "Applying [EmbeddingExtractor, ThemesExtractor, NERExtractor]:  45%|████▍     | 42/94 [00:02<00:03, 16.27it/s]Property 'summary_embedding' already exists in node 'ecb34c'. Skipping!\n",
      "Property 'summary_embedding' already exists in node 'e5d8be'. Skipping!\n",
      "Applying [EmbeddingExtractor, ThemesExtractor, NERExtractor]:  50%|█████     | 47/94 [00:03<00:02, 17.77it/s]Property 'summary_embedding' already exists in node 'b437c5'. Skipping!\n",
      "Property 'summary_embedding' already exists in node '4c6ac2'. Skipping!\n",
      "Property 'summary_embedding' already exists in node '91ccb6'. Skipping!\n",
      "Applying [EmbeddingExtractor, ThemesExtractor, NERExtractor]:  53%|█████▎    | 50/94 [00:03<00:02, 18.84it/s]Property 'summary_embedding' already exists in node '38ef14'. Skipping!\n",
      "Property 'summary_embedding' already exists in node '4e9cfe'. Skipping!\n",
      "Property 'summary_embedding' already exists in node 'd0f70e'. Skipping!\n",
      "Property 'summary_embedding' already exists in node '146892'. Skipping!\n",
      "Applying [EmbeddingExtractor, ThemesExtractor, NERExtractor]:  57%|█████▋    | 54/94 [00:03<00:01, 21.55it/s]Property 'summary_embedding' already exists in node '85b1f7'. Skipping!\n",
      "Property 'summary_embedding' already exists in node '9f63c3'. Skipping!\n",
      "Property 'summary_embedding' already exists in node 'e2bb06'. Skipping!\n",
      "Property 'summary_embedding' already exists in node 'e5c498'. Skipping!\n",
      "Property 'summary_embedding' already exists in node '904597'. Skipping!\n",
      "Property 'summary_embedding' already exists in node 'ae2ef3'. Skipping!\n",
      "Generating personas: 100%|██████████| 3/3 [00:01<00:00,  1.58it/s]                                           \n",
      "Generating Scenarios: 100%|██████████| 3/3 [02:57<00:00, 59.21s/it]\n",
      "Generating Samples: 100%|██████████| 21/21 [00:05<00:00,  4.05it/s]\n"
     ]
    }
   ],
   "execution_count": 9
  },
  {
   "metadata": {
    "ExecuteTime": {
     "end_time": "2025-07-27T01:50:16.432195Z",
     "start_time": "2025-07-27T01:50:16.425660Z"
    }
   },
   "cell_type": "code",
   "source": "df = dataset.to_pandas()",
   "id": "355ce93af2f1108e",
   "outputs": [],
   "execution_count": 14
  },
  {
   "metadata": {
    "ExecuteTime": {
     "end_time": "2025-07-27T01:52:15.393319Z",
     "start_time": "2025-07-27T01:50:50.738495Z"
    }
   },
   "cell_type": "code",
   "source": [
    "import asyncio\n",
    "from src.query import query\n",
    "queries = df['user_input'].to_list()\n",
    "\n",
    "res_buffer = []\n",
    "context_buffer = []\n",
    "for query_string in queries:\n",
    "    print(query_string)\n",
    "    print(\"=====================\")\n",
    "    res, context = asyncio.run(query(query_string))\n",
    "    print(res)\n",
    "    res_buffer.append(res)\n",
    "    context_buffer.append(context)\n",
    "    print(\"=====================\")\n",
    "\n",
    "df['answer'] = res_buffer\n",
    "df['contexts'] = context_buffer"
   ],
   "id": "c92cacedeae42c4",
   "outputs": [
    {
     "name": "stdout",
     "output_type": "stream",
     "text": [
      "how particles move when perfume spill and why it spread in room?\n",
      "=====================\n",
      "When perfume is spilled, tiny particles called molecules evaporate and become a gas. These gas particles have energy and move around in all directions randomly. Because there are more perfume particles near the spill and fewer farther away, the particles spread out from where there are many to where there are fewer. This spreading out is called diffusion, and it makes the perfume smell spread throughout the room.\n",
      "=====================\n",
      "how copper(II) sulfate crystal do in water?\n",
      "=====================\n",
      "When a copper(II) sulfate crystal is dropped into water, it dissolves and the blue color spreads through the water. This happens because the copper(II) sulfate particles move from where there are many (the crystal) to where there are fewer (the water), a process called diffusion.\n",
      "=====================\n",
      "Why cells gotta be small in biology and why big animals got many small cells not one big cell, can you explain long?\n",
      "=====================\n",
      "Cells need to be small because they have to move oxygen, food, and waste materials in and out through their surface, which is the cell membrane. The surface area of the cell membrane helps with this movement. When a cell gets bigger, its volume grows faster than its surface area, so it has less surface area compared to its volume. This means the cell cannot get enough oxygen and food or get rid of waste quickly enough to stay healthy. That's why cells are usually small.\n",
      "\n",
      "Big animals have many small cells instead of one big cell because many small cells have a larger total surface area to volume ratio. This helps the animal's body move materials in and out of cells faster and keeps the cells working well. If an animal had just one big cell, it would not be able to get enough oxygen and nutrients to all parts of the cell, and it would not survive. So, having many small cells helps big animals stay alive and healthy.\n",
      "=====================\n",
      "How does the surface area-to-volume ratio of protoplasm affect the rate of food and oxygen intake in cells of different sizes?\n",
      "=====================\n",
      "The surface area-to-volume ratio of protoplasm affects how fast food and oxygen can enter a cell. Smaller cells have a larger surface area compared to their volume, so they can take in food and oxygen faster. Bigger cells have a smaller surface area compared to their volume, so they take in food and oxygen more slowly. This means smaller cells are more active because they get food and oxygen quicker.\n",
      "=====================\n",
      "Could you explain how Cell B achieves a different surface area-to-volume ratio compared to Cell A, given that both cells have the same volume, and what implications this might have for cellular function?\n",
      "=====================\n",
      "Cell B has the same volume as Cell A but a different shape, which gives it a larger surface area. Cell A is a cube with sides of 1 cm, so its surface area is 6 cm² and volume is 1 cm³. Cell B is a rectangular shape with sides 2 cm, 2 cm, and 0.25 cm, also with volume 1 cm³, but its surface area is 10 cm², which is bigger than Cell A's surface area. This means Cell B has a higher surface area-to-volume ratio. A higher surface area-to-volume ratio helps the cell to absorb and release substances like oxygen and nutrients faster, making Cell B more efficient in moving materials in and out compared to Cell A.\n",
      "=====================\n",
      "Can you explane how active transport works in the smal intestine and why it is important for nutrient uptake?\n",
      "=====================\n",
      "Active transport in the small intestine works by using energy from the living cells to move substances like glucose from a lower concentration outside the cells to a higher concentration inside the cells. This means the cells can absorb glucose even when there is more glucose inside than outside. It is important because it helps the body take in nutrients like glucose from food, even when the concentration is low in the intestine, so the body can get energy and stay healthy.\n",
      "=====================\n",
      "Why does actve trasport not take place in ded cells?\n",
      "=====================\n",
      "Active transport does not take place in dead cells because active transport needs energy from respiration, and dead cells cannot respire to release energy. Without energy, the cells cannot move substances against the concentration gradient.\n",
      "=====================\n",
      "How does energy consumption differentiate active transport from diffusion in biological processes, and why does active transport not occur in dead cells?\n",
      "=====================\n",
      "Active transport uses energy from respiration to move substances from a place where there is less of them to a place where there is more of them, which is against the concentration gradient. Diffusion does not need energy and moves substances from where there is more to where there is less, following the concentration gradient. Active transport does not happen in dead cells because they cannot respire and produce energy needed for this process.\n",
      "=====================\n",
      "How does energy consumption differentiate active transport from diffusion in biological processes, and what are the key characteristics that distinguish these two mechanisms, particularly considering why active transport does not occur in dead cells?\n",
      "=====================\n",
      "Active transport uses energy from respiration to move substances from a lower concentration to a higher concentration, which is against the concentration gradient. Diffusion does not need energy and moves substances from a higher concentration to a lower concentration, down the concentration gradient. Active transport requires a living cell membrane and energy, so it cannot happen in dead cells because they do not respire and produce energy. Diffusion does not need a living cell membrane or energy. These are the main differences between active transport and diffusion.\n",
      "=====================\n",
      "how temperature acids alkalis cause enzyme denaturation and effect enzyme action speed?\n",
      "=====================\n",
      "Temperature, acids, and alkalis can change the shape of enzymes. When the shape of an enzyme changes, it is called denaturation. This means the enzyme's active site no longer fits the substrate, so the enzyme cannot work properly. High temperature, strong acids, or strong alkalis cause enzymes to denature, which makes the enzyme action slow down or stop completely.\n",
      "=====================\n",
      "Whi does active transport require energy consumtion in biological processes, and what are the key charactristics that differ diffusion from active transport?\n",
      "=====================\n",
      "Active transport requires energy because it moves substances from a place where there is less of them to a place where there is more, which is against the natural flow. This needs energy from the cell's respiration to happen. The key differences between diffusion and active transport are: 1) Diffusion moves particles from high concentration to low concentration, but active transport moves them from low concentration to high concentration. 2) Diffusion does not need energy, while active transport does. 3) Diffusion can happen without a cell membrane, but active transport needs a living cell membrane to work.\n",
      "=====================\n",
      "How do temperature, acids, and alkalis affect enzyme activity and lead to enzyme denaturation, and what experimental evidence supports these effects on the enzyme's active site and catalytic function?\n",
      "=====================\n",
      "Temperature, acids, and alkalis can change the shape of enzymes and affect how well they work. When the temperature is too low, enzymes work slowly because molecules move slowly. As temperature rises, enzymes work faster until they reach the best temperature (optimum temperature), usually around 40–45°C for human enzymes. If the temperature gets too high, enzymes lose their shape, especially their active site, and can't work anymore. This is called denaturation. Acids and alkalis can also change the enzyme's shape and stop it from working by denaturing it.\n",
      "\n",
      "Experiments show these effects: Figure 4.10 explains how enzyme activity changes with temperature, showing the increase to an optimum and then a rapid drop due to denaturation. Figure 4.11 shows that when enzymes are denatured, their active sites are lost, so substrates can't fit, and the enzyme can't catalyse reactions. The experiment in Let's Investigate 4.1 shows that enzymes work best at certain temperatures, and outside these temperatures, they work less or not at all. Also, Figure 4.13 shows how pH (acidity or alkalinity) affects enzyme activity, with enzymes working best at an optimum pH and denaturing at extreme pH levels.\n",
      "\n",
      "So, temperature and pH affect enzyme activity by changing the enzyme's shape, especially the active site, which stops the enzyme from helping chemical reactions.\n",
      "=====================\n",
      "how temperature acids alkalis cause enzyme denaturation and effect enzyme action speed?\n",
      "=====================\n",
      "Temperature, acids, and alkalis can cause enzyme denaturation by changing the shape of the enzyme, especially its active site. When the enzyme's shape changes, the substrate can no longer fit into the active site, so the enzyme cannot work properly. High temperatures can make enzymes lose their shape quickly, while acids and alkalis can also change the enzyme's shape by affecting its chemical environment. When enzymes are denatured, their action speed slows down or stops because they can no longer help the chemical reactions happen.\n",
      "=====================\n",
      "why active transport need energy for energy consumption in biological processes and what characteristics of diffusion and active transport different?\n",
      "=====================\n",
      "Active transport needs energy because it moves substances from a place where there is less of them to a place where there is more, which is like going uphill and needs energy. This energy comes from respiration in living cells. Diffusion and active transport are different in three main ways: 1) Diffusion moves particles from high to low concentration, but active transport moves them from low to high concentration. 2) Diffusion does not need energy, but active transport does. 3) Diffusion can happen without a cell membrane, but active transport needs a cell membrane to happen.\n",
      "=====================\n",
      "How do the experimental set-ups shown in Figure 2.4 and Figure 2.16 demonstrate the processes of diffusion and osmosis respectively, and what are the key observations and purposes of these experiments?\n",
      "=====================\n",
      "Figure 2.4 shows an experiment where a copper(II) sulfate crystal is dropped into water. Over time, the blue color spreads through the water. This happens because the copper(II) sulfate particles move from where they are more concentrated to where they are less concentrated. This movement of particles is called diffusion.\n",
      "\n",
      "Figure 2.16 shows an experiment to demonstrate osmosis using dialysis tubing filled with sucrose solution and placed in distilled water. The dialysis tubing acts like a partially permeable membrane. Water moves through the tubing into the sucrose solution because water moves from an area with more water molecules (distilled water) to an area with fewer water molecules (sucrose solution). This movement of water through a partially permeable membrane is called osmosis.\n",
      "\n",
      "Key observations:\n",
      "- In Figure 2.4, the color spreads out, showing diffusion of copper(II) sulfate particles.\n",
      "- In Figure 2.16, the level of liquid inside the dialysis tubing changes because water moves in or out by osmosis.\n",
      "\n",
      "Purpose:\n",
      "- The experiment in Figure 2.4 helps us see how diffusion works with dissolved substances.\n",
      "- The experiment in Figure 2.16 helps us understand osmosis, which is the movement of water through a membrane.\n",
      "=====================\n",
      "How do the surface area-to-volume ratios of Cell A and Cell B affect their efficiency in food and oxygen intake, considering their different shapes and sizes?\n",
      "=====================\n",
      "Cell A and Cell B have the same volume but different shapes, which means they have different surface areas. Cell B has a larger surface area-to-volume ratio than Cell A because of its shape. This means Cell B can absorb food and oxygen more efficiently than Cell A because it has more surface area for substances to move in and out. So, even though they are the same size inside, Cell B's shape helps it take in food and oxygen faster than Cell A.\n",
      "=====================\n",
      "How do the concentration gradient illustrated in Figure 2.3 and the surface area-to-volume ratio shown in Figure 2.7 together explain the efficiency of diffusion in cells of different sizes?\n",
      "=====================\n",
      "The concentration gradient in Figure 2.3 shows that particles move from a place where there are many particles to where there are fewer particles, spreading out evenly. Figure 2.7 shows that smaller cells have a bigger surface area compared to their volume, so they can take in food and oxygen faster. Together, these ideas explain that small cells with a big surface area-to-volume ratio can absorb substances quickly because particles move easily down the concentration gradient across their cell membrane. Bigger cells have a smaller surface area compared to their volume, so diffusion is slower and less efficient for them.\n",
      "=====================\n",
      "How does the water potential gradient illustrated in Figure 2.17 relate to the effect of temperature on enzyme activity shown in Figure 4.10, particularly in terms of molecular movement and reaction rates?\n",
      "=====================\n",
      "The water potential gradient in Figure 2.17 shows how water molecules move from a place with higher water potential to a place with lower water potential. This movement happens because molecules are always moving. In Figure 4.10, the effect of temperature on enzyme activity is explained by how temperature changes the movement of molecules. When temperature is low, molecules move slowly, so reactions happen slowly. When temperature increases, molecules move faster, so enzymes and substrates collide more often, making reactions faster. But if the temperature is too high, enzymes lose their shape and stop working. So, both figures show that the movement of molecules is important for how fast reactions happen.\n",
      "=====================\n",
      "How do enzymes speed up chemical reactions by lowering activation energy, and how does temperature affect the enzyme's active site and overall enzyme activity according to the described experiment?\n",
      "=====================\n",
      "Enzymes speed up chemical reactions by lowering the activation energy, which is the energy needed to start the reaction. This means the reaction can happen faster and at lower temperatures. Temperature affects enzyme activity because at low temperatures, enzymes and substrates move slowly, so the reaction is slow. As temperature rises, enzyme activity increases until it reaches the optimum temperature (about 40-45°C for human enzymes), where the enzyme works best. If the temperature goes higher than this, the enzyme's active site changes shape (denaturation), so the substrate can't fit anymore, and the enzyme stops working. This makes the enzyme activity drop quickly.\n",
      "=====================\n",
      "How do the processes illustrated in Figure 2.1 and Figure 2.15 explain the movement of molecules across membranes, and what role do concentration gradients play in diffusion and osmosis?\n",
      "=====================\n",
      "Figure 2.1 shows diffusion where perfume particles move from a place with many particles (high concentration) to a place with fewer particles (low concentration). This movement happens because particles like to spread out evenly, moving down the concentration gradient.\n",
      "\n",
      "Figure 2.15 shows osmosis, which is a special kind of diffusion for water. Water moves through a partially permeable membrane from a place with more water (higher water potential) to a place with less water (lower water potential). The membrane lets water through but not bigger molecules like sugar.\n",
      "\n",
      "In both diffusion and osmosis, concentration gradients are very important. They are the difference in concentration between two areas. Particles move from where there are more particles to where there are fewer until things are balanced. This is how molecules move across membranes to keep cells working well.\n",
      "=====================\n",
      "How does the surface area-to-volume ratio of a cell influence the rate at which substances move across the cell membrane, and how does this relate to the process of osmosis and the differing responses of plant and animal cells when placed in solutions with higher water potential?\n",
      "=====================\n",
      "The surface area-to-volume ratio of a cell affects how fast substances like water and nutrients can move across the cell membrane. A higher surface area-to-volume ratio means substances can move in and out more quickly. This is important for osmosis, where water moves across the cell membrane from a place with higher water potential to lower water potential. Plant cells have a cell wall that helps them swell and stay firm (turgid) when water enters, while animal cells can swell and even burst because they don't have a cell wall. So, the surface area-to-volume ratio helps cells absorb water efficiently, and the cell wall in plants protects them during osmosis in solutions with higher water potential.\n",
      "=====================\n"
     ]
    }
   ],
   "execution_count": 16
  },
  {
   "metadata": {
    "ExecuteTime": {
     "end_time": "2025-07-27T01:54:34.280172Z",
     "start_time": "2025-07-27T01:54:34.260235Z"
    }
   },
   "cell_type": "code",
   "source": [
    "data_samples = {\n",
    "    'question': df['user_input'].to_list(),\n",
    "    'answer': df['answer'].to_list(),\n",
    "    'contexts': [[item] for item in df['contexts'].to_list()],\n",
    "    'ground_truth': df['reference'].to_list()\n",
    "}\n",
    "from datasets import Dataset\n",
    "dataset = Dataset.from_dict(data_samples)"
   ],
   "id": "e94012ae1624bdf",
   "outputs": [],
   "execution_count": 18
  },
  {
   "metadata": {
    "ExecuteTime": {
     "end_time": "2025-07-27T01:56:39.660569Z",
     "start_time": "2025-07-27T01:54:51.363414Z"
    }
   },
   "cell_type": "code",
   "source": [
    "from ragas.metrics import (\n",
    "    answer_relevancy,\n",
    "    faithfulness,\n",
    "    context_recall,\n",
    "    context_precision,\n",
    ")\n",
    "\n",
    "from ragas import evaluate\n",
    "\n",
    "result = evaluate(\n",
    "    dataset,\n",
    "    metrics=[\n",
    "        context_precision,\n",
    "        faithfulness,\n",
    "        answer_relevancy,\n",
    "        context_recall,\n",
    "    ],\n",
    ")\n",
    "\n",
    "result"
   ],
   "id": "8ba485e578dd2c35",
   "outputs": [
    {
     "name": "stderr",
     "output_type": "stream",
     "text": [
      "Evaluating: 100%|██████████| 84/84 [01:46<00:00,  1.27s/it]\n"
     ]
    },
    {
     "data": {
      "text/plain": [
       "{'context_precision': 1.0000, 'faithfulness': 0.9135, 'answer_relevancy': 0.9166, 'context_recall': 0.9881}"
      ]
     },
     "execution_count": 20,
     "metadata": {},
     "output_type": "execute_result"
    }
   ],
   "execution_count": 20
  },
  {
   "metadata": {
    "ExecuteTime": {
     "end_time": "2025-07-27T01:59:51.292716Z",
     "start_time": "2025-07-27T01:59:51.240377Z"
    }
   },
   "cell_type": "code",
   "source": "df.to_csv(\"../data/evaluation_data.csv\")",
   "id": "d1e4fd21c5e42e66",
   "outputs": [],
   "execution_count": 21
  },
  {
   "metadata": {},
   "cell_type": "code",
   "outputs": [],
   "execution_count": null,
   "source": "",
   "id": "99c0b1161fe85ec"
  }
 ],
 "metadata": {
  "kernelspec": {
   "display_name": "Python 3",
   "language": "python",
   "name": "python3"
  },
  "language_info": {
   "codemirror_mode": {
    "name": "ipython",
    "version": 2
   },
   "file_extension": ".py",
   "mimetype": "text/x-python",
   "name": "python",
   "nbconvert_exporter": "python",
   "pygments_lexer": "ipython2",
   "version": "2.7.6"
  }
 },
 "nbformat": 4,
 "nbformat_minor": 5
}
